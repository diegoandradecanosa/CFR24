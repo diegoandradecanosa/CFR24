{
 "cells": [
  {
   "cell_type": "code",
   "execution_count": 1,
   "metadata": {},
   "outputs": [
    {
     "name": "stdout",
     "output_type": "stream",
     "text": [
      "Looking in indexes: https://pypi.org/simple, https://pypi.ngc.nvidia.com\n",
      "Requirement already satisfied: torchvision in /mnt/netapp2/Store_uni/home/ulc/es/dac/mypython/lib/python3.10/site-packages (0.17.0)\n",
      "Requirement already satisfied: requests in /mnt/netapp2/Store_uni/home/ulc/es/dac/mypython/lib/python3.10/site-packages (from torchvision) (2.31.0)\n",
      "Requirement already satisfied: numpy in /mnt/netapp2/Store_uni/home/ulc/es/dac/mypython/lib/python3.10/site-packages (from torchvision) (1.26.4)\n",
      "Requirement already satisfied: torch==2.2.0 in /mnt/netapp2/Store_uni/home/ulc/es/dac/mypython/lib/python3.10/site-packages (from torchvision) (2.2.0)\n",
      "Requirement already satisfied: pillow!=8.3.*,>=5.3.0 in /mnt/netapp2/Store_uni/home/ulc/es/dac/mypython/lib/python3.10/site-packages (from torchvision) (10.2.0)\n",
      "Requirement already satisfied: sympy in /mnt/netapp2/Store_uni/home/ulc/es/dac/mypython/lib/python3.10/site-packages (from torch==2.2.0->torchvision) (1.12)\n",
      "Requirement already satisfied: nvidia-curand-cu12==10.3.2.106 in /mnt/netapp2/Store_uni/home/ulc/es/dac/mypython/lib/python3.10/site-packages (from torch==2.2.0->torchvision) (10.3.2.106)\n",
      "Requirement already satisfied: triton==2.2.0 in /mnt/netapp2/Store_uni/home/ulc/es/dac/mypython/lib/python3.10/site-packages (from torch==2.2.0->torchvision) (2.2.0)\n",
      "Requirement already satisfied: nvidia-nccl-cu12==2.19.3 in /mnt/netapp2/Store_uni/home/ulc/es/dac/mypython/lib/python3.10/site-packages (from torch==2.2.0->torchvision) (2.19.3)\n",
      "Requirement already satisfied: filelock in /mnt/netapp2/Store_uni/home/ulc/es/dac/mypython/lib/python3.10/site-packages (from torch==2.2.0->torchvision) (3.13.1)\n",
      "Requirement already satisfied: typing-extensions>=4.8.0 in /mnt/netapp2/Store_uni/home/ulc/es/dac/mypython/lib/python3.10/site-packages (from torch==2.2.0->torchvision) (4.9.0)\n",
      "Requirement already satisfied: nvidia-cuda-runtime-cu12==12.1.105 in /mnt/netapp2/Store_uni/home/ulc/es/dac/mypython/lib/python3.10/site-packages (from torch==2.2.0->torchvision) (12.1.105)\n",
      "Requirement already satisfied: nvidia-cufft-cu12==11.0.2.54 in /mnt/netapp2/Store_uni/home/ulc/es/dac/mypython/lib/python3.10/site-packages (from torch==2.2.0->torchvision) (11.0.2.54)\n",
      "Requirement already satisfied: nvidia-cuda-cupti-cu12==12.1.105 in /mnt/netapp2/Store_uni/home/ulc/es/dac/mypython/lib/python3.10/site-packages (from torch==2.2.0->torchvision) (12.1.105)\n",
      "Requirement already satisfied: nvidia-cublas-cu12==12.1.3.1 in /mnt/netapp2/Store_uni/home/ulc/es/dac/mypython/lib/python3.10/site-packages (from torch==2.2.0->torchvision) (12.1.3.1)\n",
      "Requirement already satisfied: nvidia-cusparse-cu12==12.1.0.106 in /mnt/netapp2/Store_uni/home/ulc/es/dac/mypython/lib/python3.10/site-packages (from torch==2.2.0->torchvision) (12.1.0.106)\n",
      "Requirement already satisfied: nvidia-nvtx-cu12==12.1.105 in /mnt/netapp2/Store_uni/home/ulc/es/dac/mypython/lib/python3.10/site-packages (from torch==2.2.0->torchvision) (12.1.105)\n",
      "Requirement already satisfied: networkx in /mnt/netapp2/Store_uni/home/ulc/es/dac/mypython/lib/python3.10/site-packages (from torch==2.2.0->torchvision) (3.2.1)\n",
      "Requirement already satisfied: nvidia-cudnn-cu12==8.9.2.26 in /mnt/netapp2/Store_uni/home/ulc/es/dac/mypython/lib/python3.10/site-packages (from torch==2.2.0->torchvision) (8.9.2.26)\n",
      "Requirement already satisfied: nvidia-cusolver-cu12==11.4.5.107 in /mnt/netapp2/Store_uni/home/ulc/es/dac/mypython/lib/python3.10/site-packages (from torch==2.2.0->torchvision) (11.4.5.107)\n",
      "Requirement already satisfied: fsspec in /mnt/netapp2/Store_uni/home/ulc/es/dac/mypython/lib/python3.10/site-packages (from torch==2.2.0->torchvision) (2024.2.0)\n",
      "Requirement already satisfied: jinja2 in /mnt/netapp2/Store_uni/home/ulc/es/dac/mypython/lib/python3.10/site-packages (from torch==2.2.0->torchvision) (3.1.3)\n",
      "Requirement already satisfied: nvidia-cuda-nvrtc-cu12==12.1.105 in /mnt/netapp2/Store_uni/home/ulc/es/dac/mypython/lib/python3.10/site-packages (from torch==2.2.0->torchvision) (12.1.105)\n",
      "Requirement already satisfied: nvidia-nvjitlink-cu12 in /mnt/netapp2/Store_uni/home/ulc/es/dac/mypython/lib/python3.10/site-packages (from nvidia-cusolver-cu12==11.4.5.107->torch==2.2.0->torchvision) (12.2.140)\n",
      "Requirement already satisfied: idna<4,>=2.5 in /mnt/netapp2/Store_uni/home/ulc/es/dac/mypython/lib/python3.10/site-packages (from requests->torchvision) (3.6)\n",
      "Requirement already satisfied: charset-normalizer<4,>=2 in /mnt/netapp2/Store_uni/home/ulc/es/dac/mypython/lib/python3.10/site-packages (from requests->torchvision) (3.3.2)\n",
      "Requirement already satisfied: certifi>=2017.4.17 in /mnt/netapp2/Store_uni/home/ulc/es/dac/mypython/lib/python3.10/site-packages (from requests->torchvision) (2024.2.2)\n",
      "Requirement already satisfied: urllib3<3,>=1.21.1 in /mnt/netapp2/Store_uni/home/ulc/es/dac/mypython/lib/python3.10/site-packages (from requests->torchvision) (2.2.0)\n",
      "Requirement already satisfied: MarkupSafe>=2.0 in /mnt/netapp2/Store_uni/home/ulc/es/dac/mypython/lib/python3.10/site-packages (from jinja2->torch==2.2.0->torchvision) (2.1.5)\n",
      "Requirement already satisfied: mpmath>=0.19 in /mnt/netapp2/Store_uni/home/ulc/es/dac/mypython/lib/python3.10/site-packages (from sympy->torch==2.2.0->torchvision) (1.3.0)\n",
      "\n",
      "\u001b[1m[\u001b[0m\u001b[34;49mnotice\u001b[0m\u001b[1;39;49m]\u001b[0m\u001b[39;49m A new release of pip available: \u001b[0m\u001b[31;49m22.3.1\u001b[0m\u001b[39;49m -> \u001b[0m\u001b[32;49m24.0\u001b[0m\n",
      "\u001b[1m[\u001b[0m\u001b[34;49mnotice\u001b[0m\u001b[1;39;49m]\u001b[0m\u001b[39;49m To update, run: \u001b[0m\u001b[32;49mpip install --upgrade pip\u001b[0m\n"
     ]
    }
   ],
   "source": [
    "!pip install torchvision"
   ]
  },
  {
   "attachments": {},
   "cell_type": "markdown",
   "metadata": {},
   "source": [
    "## Tensores en Pytorch\n",
    "\n",
    "Los tensores permiten manejar en Pytorch estructuras multidimensionales con datos numéricos. Entre otras cosas permiten:\n",
    "\n",
    "    - Crear tensores con un número arbitrario de dimensiones\n",
    "        - Inicializándolos con unos valores predefinidos\n",
    "        - A partir de un ndarray de numpy\n",
    "        - Emulando la forma de otro tensor o estructura de datos\n",
    "    - Manipular los tensores\n",
    "        - Modificando alguna de sus partes de forma selectiva\n",
    "        - Cambiando su forma\n",
    "        - Combinando varios tensores\n",
    "    - Operar tensores\n",
    "        - Con otros tensores\n",
    "        - Con escalares\n",
    "        - In-place\n",
    "    - Localizar los tensores y su operación en distintos tipos de dispositivos\n",
    "    - Hacer seguimiento del gradiente de los tensores\n",
    "\n",
    "***\n",
    "\n",
    "# Comprobación de la instalación de Pytorch"
   ]
  },
  {
   "cell_type": "code",
   "execution_count": 2,
   "metadata": {},
   "outputs": [
    {
     "name": "stdout",
     "output_type": "stream",
     "text": [
      "== Versión de Pytorch ==\n",
      "2.2.0+cu121\n"
     ]
    }
   ],
   "source": [
    "import torch\n",
    "import numpy as np\n",
    "\n",
    "print(\"== Versión de Pytorch ==\")\n",
    "print(torch.__version__)"
   ]
  },
  {
   "attachments": {},
   "cell_type": "markdown",
   "metadata": {},
   "source": [
    "# Creación e inicialización de tensores"
   ]
  },
  {
   "cell_type": "code",
   "execution_count": 3,
   "metadata": {},
   "outputs": [
    {
     "name": "stdout",
     "output_type": "stream",
     "text": [
      "== Creación de tensores desde datos ==\n",
      "tensor([1, 2, 3])\n",
      "tensor([1, 2, 3])\n",
      "== Inicialización de tensores ==\n",
      "tensor([[0., 0.],\n",
      "        [0., 0.]])\n",
      "tensor([[1., 1.],\n",
      "        [1., 1.]])\n",
      "tensor([[0.0990, 0.6961],\n",
      "        [0.4825, 0.0952]])\n",
      "== Tensores más complejos ==\n",
      "Shape of tensor: torch.Size([2, 3])\n",
      "Datatype of tensor: torch.float32\n",
      "Device tensor is stored on: cpu\n",
      "tensor([[0.11, 0.39, 0.06],\n",
      "        [0.76, 0.64, 0.32]])\n",
      "tensor([[1., 1., 1.],\n",
      "        [1., 1., 1.]])\n",
      "tensor([[0., 0., 0.],\n",
      "        [0., 0., 0.]])\n"
     ]
    },
    {
     "ename": "RuntimeError",
     "evalue": "No CUDA GPUs are available",
     "output_type": "error",
     "traceback": [
      "\u001b[0;31m---------------------------------------------------------------------------\u001b[0m",
      "\u001b[0;31mRuntimeError\u001b[0m                              Traceback (most recent call last)",
      "Cell \u001b[0;32mIn[3], line 33\u001b[0m\n\u001b[1;32m     31\u001b[0m \u001b[38;5;66;03m# Especificación de tipo de dato y dispositivo\u001b[39;00m\n\u001b[1;32m     32\u001b[0m tensor_float \u001b[38;5;241m=\u001b[39m torch\u001b[38;5;241m.\u001b[39mtensor([\u001b[38;5;241m1\u001b[39m, \u001b[38;5;241m2\u001b[39m, \u001b[38;5;241m3\u001b[39m], dtype\u001b[38;5;241m=\u001b[39mtorch\u001b[38;5;241m.\u001b[39mfloat32)\n\u001b[0;32m---> 33\u001b[0m tensor_gpu \u001b[38;5;241m=\u001b[39m \u001b[43mtorch\u001b[49m\u001b[38;5;241;43m.\u001b[39;49m\u001b[43mtensor\u001b[49m\u001b[43m(\u001b[49m\u001b[43m[\u001b[49m\u001b[38;5;241;43m1\u001b[39;49m\u001b[43m,\u001b[49m\u001b[43m \u001b[49m\u001b[38;5;241;43m2\u001b[39;49m\u001b[43m,\u001b[49m\u001b[43m \u001b[49m\u001b[38;5;241;43m3\u001b[39;49m\u001b[43m]\u001b[49m\u001b[43m,\u001b[49m\u001b[43m \u001b[49m\u001b[43mdevice\u001b[49m\u001b[38;5;241;43m=\u001b[39;49m\u001b[38;5;124;43m\"\u001b[39;49m\u001b[38;5;124;43mcuda\u001b[39;49m\u001b[38;5;124;43m\"\u001b[39;49m\u001b[43m)\u001b[49m\n\u001b[1;32m     34\u001b[0m \u001b[38;5;28mprint\u001b[39m(\u001b[38;5;124m\"\u001b[39m\u001b[38;5;124m== Especificación de tipo de dato y dispositivo ==\u001b[39m\u001b[38;5;124m\"\u001b[39m)\n\u001b[1;32m     35\u001b[0m \u001b[38;5;28mprint\u001b[39m(tensor_float\u001b[38;5;241m.\u001b[39mdtype)\n",
      "File \u001b[0;32m/mnt/netapp2/Store_uni/home/ulc/es/dac/mypython/lib/python3.10/site-packages/torch/cuda/__init__.py:302\u001b[0m, in \u001b[0;36m_lazy_init\u001b[0;34m()\u001b[0m\n\u001b[1;32m    300\u001b[0m \u001b[38;5;28;01mif\u001b[39;00m \u001b[38;5;124m\"\u001b[39m\u001b[38;5;124mCUDA_MODULE_LOADING\u001b[39m\u001b[38;5;124m\"\u001b[39m \u001b[38;5;129;01mnot\u001b[39;00m \u001b[38;5;129;01min\u001b[39;00m os\u001b[38;5;241m.\u001b[39menviron:\n\u001b[1;32m    301\u001b[0m     os\u001b[38;5;241m.\u001b[39menviron[\u001b[38;5;124m\"\u001b[39m\u001b[38;5;124mCUDA_MODULE_LOADING\u001b[39m\u001b[38;5;124m\"\u001b[39m] \u001b[38;5;241m=\u001b[39m \u001b[38;5;124m\"\u001b[39m\u001b[38;5;124mLAZY\u001b[39m\u001b[38;5;124m\"\u001b[39m\n\u001b[0;32m--> 302\u001b[0m \u001b[43mtorch\u001b[49m\u001b[38;5;241;43m.\u001b[39;49m\u001b[43m_C\u001b[49m\u001b[38;5;241;43m.\u001b[39;49m\u001b[43m_cuda_init\u001b[49m\u001b[43m(\u001b[49m\u001b[43m)\u001b[49m\n\u001b[1;32m    303\u001b[0m \u001b[38;5;66;03m# Some of the queued calls may reentrantly call _lazy_init();\u001b[39;00m\n\u001b[1;32m    304\u001b[0m \u001b[38;5;66;03m# we need to just return without initializing in that case.\u001b[39;00m\n\u001b[1;32m    305\u001b[0m \u001b[38;5;66;03m# However, we must not let any *other* threads in!\u001b[39;00m\n\u001b[1;32m    306\u001b[0m _tls\u001b[38;5;241m.\u001b[39mis_initializing \u001b[38;5;241m=\u001b[39m \u001b[38;5;28;01mTrue\u001b[39;00m\n",
      "\u001b[0;31mRuntimeError\u001b[0m: No CUDA GPUs are available"
     ]
    }
   ],
   "source": [
    "\n",
    "# Creación de tensores desde datos\n",
    "tensor_from_list = torch.tensor([1, 2, 3])\n",
    "tensor_from_numpy = torch.from_numpy(np.array([1, 2, 3]))\n",
    "print(\"== Creación de tensores desde datos ==\")\n",
    "print(tensor_from_list)\n",
    "print(tensor_from_numpy)\n",
    "\n",
    "# Inicialización de tensores\n",
    "tensor_zeros = torch.zeros(2, 2)\n",
    "tensor_ones = torch.ones(2, 2)\n",
    "tensor_random = torch.rand(2, 2)\n",
    "print(\"== Inicialización de tensores ==\")\n",
    "print(tensor_zeros)\n",
    "print(tensor_ones)\n",
    "print(tensor_random)\n",
    "\n",
    "# Tensores más complejos\n",
    "shape = (2,3,)\n",
    "rand_tensor = torch.rand(shape)\n",
    "ones_tensor = torch.ones(shape)\n",
    "zeros_tensor = torch.zeros(shape)\n",
    "print(\"== Tensores más complejos ==\")\n",
    "print(f\"Shape of tensor: {rand_tensor.shape}\")\n",
    "print(f\"Datatype of tensor: {rand_tensor.dtype}\")\n",
    "print(f\"Device tensor is stored on: {rand_tensor.device}\")\n",
    "torch.set_printoptions(precision=2)\n",
    "print(rand_tensor)\n",
    "print(ones_tensor)\n",
    "print(zeros_tensor)\n",
    "\n",
    "# Especificación de tipo de dato y dispositivo\n",
    "tensor_float = torch.tensor([1, 2, 3], dtype=torch.float32)\n",
    "tensor_gpu = torch.tensor([1, 2, 3], device=\"cuda\")\n",
    "print(\"== Especificación de tipo de dato y dispositivo ==\")\n",
    "print(tensor_float.dtype)\n",
    "print(tensor_gpu.device)\n"
   ]
  },
  {
   "attachments": {},
   "cell_type": "markdown",
   "metadata": {},
   "source": [
    "# Operación de tensores"
   ]
  },
  {
   "cell_type": "code",
   "execution_count": 4,
   "metadata": {},
   "outputs": [
    {
     "name": "stdout",
     "output_type": "stream",
     "text": [
      "== Operaciones matriciales ==\n",
      "tensor([[0.66, 0.35, 0.06],\n",
      "        [0.36, 0.17, 0.42]])\n",
      "tensor([[0.67, 0.37, 0.22, 0.91],\n",
      "        [0.68, 0.64, 0.12, 0.85],\n",
      "        [0.26, 0.40, 0.89, 0.71]])\n",
      "tensor([[0.70, 0.49, 0.24, 0.94],\n",
      "        [0.47, 0.41, 0.47, 0.77]])\n",
      "tensor([[0.66, 0.36],\n",
      "        [0.35, 0.17],\n",
      "        [0.06, 0.42]])\n",
      "== Operaciones in-place ==\n",
      "tensor([[1.33, 0.70, 0.11],\n",
      "        [0.72, 0.35, 0.83]])\n",
      "== Cambiar forma de un tensor ==\n",
      "tensor([[1.33, 0.70],\n",
      "        [0.11, 0.72],\n",
      "        [0.35, 0.83]])\n",
      "tensor([[[1.33, 0.70, 0.11],\n",
      "         [0.72, 0.35, 0.83]]])\n",
      "tensor([[1.33, 0.70, 0.11],\n",
      "        [0.72, 0.35, 0.83]])\n",
      "== Indexación ==\n",
      "tensor(2)\n",
      "tensor([2, 4])\n"
     ]
    }
   ],
   "source": [
    "# Operaciones básicas\n",
    "a = torch.tensor([1, 2, 3])\n",
    "b = torch.tensor([4, 5, 6])\n",
    "\n",
    "add = a + b\n",
    "sub = a - b\n",
    "mul = a * b\n",
    "div = a / b\n",
    "\n",
    "# Operaciones matriciales\n",
    "A = torch.rand(2, 3)\n",
    "B = torch.rand(3, 4)\n",
    "matmul = torch.matmul(A, B)\n",
    "transpose = A.t()\n",
    "a.mul_(2)\n",
    "print(\"== Operaciones matriciales ==\")\n",
    "print(A)\n",
    "print(B)\n",
    "print(matmul)\n",
    "print(transpose)\n",
    "print(\"== Operaciones in-place ==\")\n",
    "A.mul_(2)\n",
    "print(A)\n",
    "\n",
    "# Cambiar forma de un tensor\n",
    "A_reshaped = A.view(3, 2)\n",
    "A_squeezed = A.unsqueeze(0)\n",
    "A_unsqueezed = A_squeezed.squeeze(0)\n",
    "print(\"== Cambiar forma de un tensor ==\")\n",
    "print(A_reshaped)\n",
    "print(A_squeezed)\n",
    "print(A_unsqueezed)\n",
    "\n",
    "# Indexación\n",
    "first_element = a[0]\n",
    "first_two_elements = a[:2]\n",
    "print(\"== Indexación ==\")\n",
    "print(first_element)\n",
    "print(first_two_elements)\n"
   ]
  },
  {
   "attachments": {},
   "cell_type": "markdown",
   "metadata": {},
   "source": [
    "# Ubicando un tensor en un dispositivo"
   ]
  },
  {
   "cell_type": "code",
   "execution_count": 5,
   "metadata": {},
   "outputs": [],
   "source": [
    "# Comprobando si hay GPU disponible\n",
    "is_cuda_available = torch.cuda.is_available()\n",
    "\n",
    "# Moviendo tensores a GPU\n",
    "if is_cuda_available:\n",
    "    a_gpu = a.to(\"cuda\")\n",
    "    b_gpu = b.to(\"cuda\")\n",
    "\n",
    "# Realizando operaciones en GPU\n",
    "if is_cuda_available:\n",
    "    add_gpu = a_gpu + b_gpu\n"
   ]
  },
  {
   "attachments": {},
   "cell_type": "markdown",
   "metadata": {},
   "source": [
    "# Ejercicio 1\n",
    "\n",
    "Quita los comentarios y completa las partes relevantes siguiendo las indicaciones"
   ]
  },
  {
   "cell_type": "code",
   "execution_count": 6,
   "metadata": {},
   "outputs": [],
   "source": [
    "# Importamos PyTorch\n",
    "import torch\n",
    "\n",
    "# -----------------------------------------------------------\n",
    "# Crear un Tensor en PyTorch\n",
    "# -----------------------------------------------------------\n",
    "# Crea un tensor de tamaño 5x5 lleno de unos.\n",
    "\n",
    "# ESCRIBE TU CÓDIGO AQUÍ\n",
    "# one_tensor = ...\n",
    "\n",
    "# Imprime tu tensor\n",
    "# print(one_tensor)\n",
    "\n",
    "\n",
    "# -----------------------------------------------------------\n",
    "# Operaciones con Tensores\n",
    "# -----------------------------------------------------------\n",
    "# Crea un tensor de tamaño 5x5 lleno de unos y un tensor de tamaño 5x5 lleno de ceros.\n",
    "# Suma ambos tensores y almacena el resultado en una nueva variable.\n",
    "\n",
    "# ESCRIBE TU CÓDIGO AQUÍ\n",
    "# one_tensor = ...\n",
    "# zeros_tensor = ...  \n",
    "# sum_tensor = ...\n",
    "\n",
    "# Imprime tu nuevo tensor\n",
    "# print(sum_tensor)\n",
    "\n",
    "\n",
    "# -----------------------------------------------------------\n",
    "# Ejercicio 3: Redimensionar Tensores\n",
    "# -----------------------------------------------------------\n",
    "# Crea un tensor de tamaño 1x25 y redimensionalo a un tamaño de 5x5.\n",
    "\n",
    "# ESCRIBE TU CÓDIGO AQUÍ\n",
    "# original_tensor = ...\n",
    "# reshaped_tensor = ...\n",
    "\n",
    "# Imprime el tensor redimensionado\n",
    "# print(reshaped_tensor)\n",
    "\n",
    "\n",
    "# -----------------------------------------------------------\n",
    "# Operaciones de Reducción\n",
    "# -----------------------------------------------------------\n",
    "# Crea un tensor de tamaño 5x5 con números aleatorios.\n",
    "# Calcula la suma y la media de los valores del tensor.\n",
    "\n",
    "# ESCRIBE TU CÓDIGO AQUÍ\n",
    "# random_tensor = ...\n",
    "# sum_val = ...\n",
    "# mean_val = ...\n",
    "\n",
    "# Imprime los valores de suma y media\n",
    "# print(\"Suma:\", sum_val)\n",
    "# print(\"Media:\", mean_val)\n",
    "\n",
    "\n",
    "# -----------------------------------------------------------\n",
    "# Propagación de Operaciones\n",
    "# -----------------------------------------------------------\n",
    "# Crea dos tensores de tamaño 5x5 llenos de unos.\n",
    "# Multiplica uno de los tensores por 5.\n",
    "# Suma ambos tensores y almacena el resultado en un nuevo tensor.\n",
    "\n",
    "# ESCRIBE TU CÓDIGO AQUÍ\n",
    "# one_tensor = ...\n",
    "# another_tensor = ...\n",
    "# another_tensor = ...\n",
    "# sum_tensor = ...\n",
    "\n",
    "# Imprime el resultado de la suma\n",
    "# print(sum_tensor)\n",
    "\n",
    "# -----------------------------------------------------------\n",
    "# Combinar torch.cat y torch.stack\n",
    "# -----------------------------------------------------------\n",
    "# Crea dos tensores de tamaño 2x3 llenos de unos y de dos, respectivamente.\n",
    "# Primero, concatena los dos tensores a lo largo de la segunda dimensión (dim=1).\n",
    "# Luego, apila los dos tensores originales a lo largo de una nueva dimensión al principio.\n",
    "# Finalmente, compara las formas de los tensores resultantes.\n",
    "\n",
    "# ESCRIBE TU CÓDIGO AQUÍ\n",
    "# tensor1 = ...\n",
    "# tensor2 = ...\n",
    "# cat_result = ...\n",
    "# stack_result = ...\n",
    "\n",
    "# Imprime los tensores resultantes y sus formas\n",
    "# print(\"cat_result:\", cat_result, \", shape:\", cat_result.shape)\n",
    "# print(\"stack_result:\", stack_result, \", shape:\", stack_result.shape)\n"
   ]
  },
  {
   "attachments": {},
   "cell_type": "markdown",
   "metadata": {},
   "source": [
    "# Ejercicio 2\n",
    "\n",
    "Completa las partes relevantes siguiendo las indicaciones"
   ]
  },
  {
   "cell_type": "code",
   "execution_count": 7,
   "metadata": {},
   "outputs": [
    {
     "data": {
      "image/jpeg": "[encoded data removed]",
      "image/png": "[encoded data removed]",
      "text/plain": [
       "<PIL.Image.Image image mode=RGB size=128x128>"
      ]
     },
     "metadata": {},
     "output_type": "display_data"
    },
    {
     "name": "stdout",
     "output_type": "stream",
     "text": [
      "Imagen roja\n"
     ]
    },
    {
     "data": {
      "image/jpeg": "[encoded data removed]",
      "image/png": "[encoded data removed]",
      "text/plain": [
       "<PIL.Image.Image image mode=RGB size=128x128>"
      ]
     },
     "metadata": {},
     "output_type": "display_data"
    },
    {
     "name": "stdout",
     "output_type": "stream",
     "text": [
      "Imagen amarilla\n"
     ]
    },
    {
     "data": {
      "image/jpeg": "[encoded data removed]",
      "image/png": "[encoded data removed]",
      "text/plain": [
       "<PIL.Image.Image image mode=RGB size=128x128>"
      ]
     },
     "metadata": {},
     "output_type": "display_data"
    },
    {
     "name": "stdout",
     "output_type": "stream",
     "text": [
      "Imagen con ralla vertical blanca\n"
     ]
    },
    {
     "data": {
      "image/jpeg": "[encoded data removed]",
      "image/png": "[encoded data removed]",
      "text/plain": [
       "<PIL.Image.Image image mode=RGB size=128x128>"
      ]
     },
     "metadata": {},
     "output_type": "display_data"
    },
    {
     "name": "stdout",
     "output_type": "stream",
     "text": [
      "Imagen con rallas vertical y horizontal blancas\n"
     ]
    },
    {
     "data": {
      "image/jpeg": "[encoded data removed]",
      "image/png": "[encoded data removed]",
      "text/plain": [
       "<PIL.Image.Image image mode=RGB size=128x128>"
      ]
     },
     "metadata": {},
     "output_type": "display_data"
    }
   ],
   "source": [
    "import torch\n",
    "from PIL import Image\n",
    "import numpy as np\n",
    "import torchvision.transforms as T\n",
    "from IPython.display import display\n",
    "\n",
    "def displayT(timg):\n",
    "    transform = T.ToPILImage()\n",
    "    img = transform(timg)\n",
    "    display(img)\n",
    "\n",
    "# timg representa una imagen con 3 canales (RGB) de 128x128\n",
    "timg=torch.zeros(3,128,128)\n",
    "transform = T.ToPILImage()\n",
    "# Si todos los canales tienen un 0, la imagen es negra\n",
    "# Si todos los canales tienen un 1, la imagen es blanca\n",
    "# Si el canal 0 tiene un 1 y los canales 1 y 2 tienen un 0, la imagen es roja\n",
    "# Si el canal 1 tiene un 1 y los canales 0 y 2 tienen un 0, la imagen es verde\n",
    "# Si el canal 2 tiene un 1 y los canales 0 y 1 tienen un 0, la imagen es azul\n",
    "# Si los canales 0 y 1 tienesn un 1 y el canal 2 tiene un 0, la imagen es amarilla\n",
    "# Si los tres canales tienen un 1, la imagen es blanca\n",
    "# Imprimimos la imagen inicial: negra\n",
    "displayT(timg)\n",
    "\n",
    "\n",
    "# Pinta toda la imagen de rojo\n",
    "# ESCRIBE TU CÓDIGO AQUÍ\n",
    "# timg[0,:,:]= ...\n",
    "print(\"Imagen roja\")\n",
    "displayT(timg)\n",
    "\n",
    "# Pinta toda la imagen de amarillo\n",
    "# ESCRIBE TU CÓDIGO AQUÍ\n",
    "# timg[1,:,:]= ... \n",
    "print(\"Imagen amarilla\")\n",
    "displayT(timg)\n",
    "\n",
    "# Pinta una ralla vertical al medio, de dos píxeles de grosor, de color blanco\n",
    "# ESCRIBE TU CÓDIGO AQUÍ\n",
    "# timg[2,:,63:65]= ...\n",
    "print(\"Imagen con ralla vertical blanca\")\n",
    "displayT(timg)\n",
    "\n",
    "# Pinta una ralla horizontal al medio, de dos píxeles de grosor, de color blanco\n",
    "# ESCRIBE TU CÓDIGO AQUÍ\n",
    "# timg[2,63:65,:]= ...\n",
    "print(\"Imagen con rallas vertical y horizontal blancas\")\n",
    "displayT(timg)"
   ]
  }
 ],
 "metadata": {
  "kernelspec": {
   "display_name": "mypython",
   "language": "python",
   "name": "mypython"
  },
  "language_info": {
   "codemirror_mode": {
    "name": "ipython",
    "version": 3
   },
   "file_extension": ".py",
   "mimetype": "text/x-python",
   "name": "python",
   "nbconvert_exporter": "python",
   "pygments_lexer": "ipython3",
   "version": "3.10.10"
  }
 },
 "nbformat": 4,
 "nbformat_minor": 4
}
